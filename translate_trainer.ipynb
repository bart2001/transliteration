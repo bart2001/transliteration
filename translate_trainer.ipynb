{
 "cells": [
  {
   "cell_type": "code",
   "execution_count": 1,
   "metadata": {},
   "outputs": [
    {
     "name": "stderr",
     "output_type": "stream",
     "text": [
      "/Users/nhnent/miniconda3/envs/trans2/lib/python2.7/site-packages/pandas/_libs/__init__.py:4: RuntimeWarning: numpy.dtype size changed, may indicate binary incompatibility. Expected 96, got 88\n",
      "  from .tslib import iNaT, NaT, Timestamp, Timedelta, OutOfBoundsDatetime\n",
      "/Users/nhnent/miniconda3/envs/trans2/lib/python2.7/site-packages/pandas/__init__.py:26: RuntimeWarning: numpy.dtype size changed, may indicate binary incompatibility. Expected 96, got 88\n",
      "  from pandas._libs import (hashtable as _hashtable,\n",
      "/Users/nhnent/miniconda3/envs/trans2/lib/python2.7/site-packages/pandas/core/dtypes/common.py:6: RuntimeWarning: numpy.dtype size changed, may indicate binary incompatibility. Expected 96, got 88\n",
      "  from pandas._libs import algos, lib\n",
      "/Users/nhnent/miniconda3/envs/trans2/lib/python2.7/site-packages/pandas/core/util/hashing.py:7: RuntimeWarning: numpy.dtype size changed, may indicate binary incompatibility. Expected 96, got 88\n",
      "  from pandas._libs import hashing, tslib\n",
      "/Users/nhnent/miniconda3/envs/trans2/lib/python2.7/site-packages/pandas/core/indexes/base.py:7: RuntimeWarning: numpy.dtype size changed, may indicate binary incompatibility. Expected 96, got 88\n",
      "  from pandas._libs import (lib, index as libindex, tslib as libts,\n",
      "/Users/nhnent/miniconda3/envs/trans2/lib/python2.7/site-packages/pandas/tseries/offsets.py:21: RuntimeWarning: numpy.dtype size changed, may indicate binary incompatibility. Expected 96, got 88\n",
      "  import pandas._libs.tslibs.offsets as liboffsets\n",
      "/Users/nhnent/miniconda3/envs/trans2/lib/python2.7/site-packages/pandas/core/ops.py:16: RuntimeWarning: numpy.dtype size changed, may indicate binary incompatibility. Expected 96, got 88\n",
      "  from pandas._libs import algos as libalgos, ops as libops\n",
      "/Users/nhnent/miniconda3/envs/trans2/lib/python2.7/site-packages/pandas/core/indexes/interval.py:32: RuntimeWarning: numpy.dtype size changed, may indicate binary incompatibility. Expected 96, got 88\n",
      "  from pandas._libs.interval import (\n",
      "/Users/nhnent/miniconda3/envs/trans2/lib/python2.7/site-packages/pandas/core/internals.py:14: RuntimeWarning: numpy.dtype size changed, may indicate binary incompatibility. Expected 96, got 88\n",
      "  from pandas._libs import internals as libinternals\n",
      "/Users/nhnent/miniconda3/envs/trans2/lib/python2.7/site-packages/pandas/core/sparse/array.py:33: RuntimeWarning: numpy.dtype size changed, may indicate binary incompatibility. Expected 96, got 88\n",
      "  import pandas._libs.sparse as splib\n",
      "/Users/nhnent/miniconda3/envs/trans2/lib/python2.7/site-packages/pandas/core/window.py:36: RuntimeWarning: numpy.dtype size changed, may indicate binary incompatibility. Expected 96, got 88\n",
      "  import pandas._libs.window as _window\n",
      "/Users/nhnent/miniconda3/envs/trans2/lib/python2.7/site-packages/pandas/core/groupby/groupby.py:68: RuntimeWarning: numpy.dtype size changed, may indicate binary incompatibility. Expected 96, got 88\n",
      "  from pandas._libs import (lib, reduction,\n",
      "/Users/nhnent/miniconda3/envs/trans2/lib/python2.7/site-packages/pandas/core/reshape/reshape.py:30: RuntimeWarning: numpy.dtype size changed, may indicate binary incompatibility. Expected 96, got 88\n",
      "  from pandas._libs import algos as _algos, reshape as _reshape\n",
      "/Users/nhnent/miniconda3/envs/trans2/lib/python2.7/site-packages/pandas/io/parsers.py:45: RuntimeWarning: numpy.dtype size changed, may indicate binary incompatibility. Expected 96, got 88\n",
      "  import pandas._libs.parsers as parsers\n",
      "/Users/nhnent/miniconda3/envs/trans2/lib/python2.7/site-packages/pandas/io/pytables.py:50: RuntimeWarning: numpy.dtype size changed, may indicate binary incompatibility. Expected 96, got 88\n",
      "  from pandas._libs import algos, lib, writers as libwriters\n"
     ]
    }
   ],
   "source": [
    "#패키지 로드 및 플래그값 정의  \n",
    "import data_utils\n",
    "import os\n",
    "#os.environ['TF_CPP_MIN_LOG_LEVEL'] = '3' \n",
    "import tensorflow as tf\n",
    "import os\n",
    "from tensorflow.models.rnn.translate import seq2seq_model\n",
    "import sys\n",
    "from pprint import pprint\n",
    "tf.app.flags.DEFINE_float(\"learning_rate\", 0.5, \"Learning rate.\")\n",
    "tf.app.flags.DEFINE_float(\"max_gradient_norm\", 5.0, \"Clip gradients to this norm.\")\n",
    "tf.app.flags.DEFINE_float(\"learning_rate_decay_factor\", 0.99, \"Learning rate decays by this much.\")\n",
    "tf.app.flags.DEFINE_integer(\"batch_size\", 64, \"Batch size to use during training.\")\n",
    "tf.app.flags.DEFINE_integer(\"size\", 128, \"Size of each model layer.\")\n",
    "tf.app.flags.DEFINE_integer(\"num_layers\", 2, \"Number of layers in the model.\")\n",
    "tf.app.flags.DEFINE_integer(\"en_vocab_size\", 40, \"English vocabulary size.\")\n",
    "tf.app.flags.DEFINE_integer(\"fr_vocab_size\", 1000, \"French vocabulary size.\")\n",
    "tf.app.flags.DEFINE_string(\"data_dir\", \"data\", \"Data directory\")\n",
    "tf.app.flags.DEFINE_string(\"train_dir\", \"train\", \"Training directory.\")\n",
    "tf.app.flags.DEFINE_integer(\"max_train_data_size\", 0, \"Limit on the size of training data (0: no limit).\")\n",
    "tf.app.flags.DEFINE_integer(\"steps_per_checkpoint\", 100, \"How many training steps to do per checkpoint.\")\n",
    "tf.app.flags.DEFINE_boolean(\"decode\", False, \"Set to True for interactive decoding.\")\n",
    "tf.app.flags.DEFINE_boolean(\"self_test\", False, \"Run a self-test if this is set to True.\")\n",
    "tf.app.flags.DEFINE_boolean(\"use_lstm\", True, \"Set to True for using lstm instead gru cell.\")\n",
    "FLAGS = tf.app.flags.FLAGS"
   ]
  },
  {
   "cell_type": "code",
   "execution_count": 2,
   "metadata": {},
   "outputs": [
    {
     "name": "stdout",
     "output_type": "stream",
     "text": [
      "Preparing WMT data in data\n"
     ]
    },
    {
     "data": {
      "text/plain": [
       "('data/giga-fren.release2.ids40.en',\n",
       " 'data/giga-fren.release2.ids1000.fr',\n",
       " 'data/newstest2013.ids40.en',\n",
       " 'data/newstest2013.ids1000.fr',\n",
       " 'data/vocab40.en',\n",
       " 'data/vocab1000.fr')"
      ]
     },
     "execution_count": 2,
     "metadata": {},
     "output_type": "execute_result"
    }
   ],
   "source": [
    "#학습파일,테스트파일 불러오기\n",
    "print(\"Preparing WMT data in %s\" % FLAGS.data_dir)\n",
    "en_train, fr_train, en_dev, fr_dev, en_idx, fr_idx = data_utils.prepare_wmt_data(FLAGS.data_dir, FLAGS.en_vocab_size, FLAGS.fr_vocab_size)\n",
    "en_train, fr_train, en_dev, fr_dev, en_idx, fr_idx"
   ]
  },
  {
   "cell_type": "code",
   "execution_count": 3,
   "metadata": {},
   "outputs": [],
   "source": [
    "## 학습모델 폴더가 없을 경우 만들어주기\n",
    "if not os.path.exists(FLAGS.train_dir):\n",
    "    os.mkdir(FLAGS.train_dir)"
   ]
  },
  {
   "cell_type": "code",
   "execution_count": 4,
   "metadata": {},
   "outputs": [
    {
     "data": {
      "text/plain": [
       "<tensorflow.models.rnn.translate.seq2seq_model.Seq2SeqModel at 0x11d10c210>"
      ]
     },
     "execution_count": 4,
     "metadata": {},
     "output_type": "execute_result"
    }
   ],
   "source": [
    "#모델을 정의하는 부분\n",
    "#def create_model(session, forward_only):\n",
    "'''Create translation model and initialize or load parameters in session.'''\n",
    "forward_only = False\n",
    "_buckets = [(7, 5), (10, 7), (17, 10), (37, 20)] #버켓사이즈\n",
    "model = seq2seq_model.Seq2SeqModel(\n",
    "    FLAGS.en_vocab_size\n",
    "    , FLAGS.fr_vocab_size\n",
    "    , _buckets\n",
    "    , FLAGS.size\n",
    "    , FLAGS.num_layers\n",
    "    , FLAGS.max_gradient_norm\n",
    "    , FLAGS.batch_size\n",
    "    , FLAGS.learning_rate\n",
    "    , FLAGS.learning_rate_decay_factor\n",
    "    , forward_only=forward_only\n",
    "    , use_lstm=FLAGS.use_lstm\n",
    ")\n",
    "model"
   ]
  },
  {
   "cell_type": "code",
   "execution_count": 5,
   "metadata": {},
   "outputs": [],
   "source": [
    "#train_dir에 잇는 체크포인트 모두 가져오기\n",
    "ckpt = tf.train.get_checkpoint_state(FLAGS.train_dir)\n",
    "ckpt"
   ]
  },
  {
   "cell_type": "code",
   "execution_count": 6,
   "metadata": {},
   "outputs": [
    {
     "name": "stdout",
     "output_type": "stream",
     "text": [
      "Created model with fresh parameters.\n"
     ]
    }
   ],
   "source": [
    "#체크포인트가 있을 경우 모델 재로딩 하고 그렇지 않을 경우 변수 초기화\n",
    "sess = tf.InteractiveSession()\n",
    "if ckpt and tf.gfile.Exists(ckpt.model_checkpoint_path):\n",
    "    print('Model already exists')\n",
    "    print(\"Reading model parameters from %s\" % ckpt.model_checkpoint_path)\n",
    "    model.saver.restore(sess, ckpt.model_checkpoint_path)\n",
    "else:\n",
    "    print(\"Created model with fresh parameters.\")\n",
    "    sess.run(tf.initialize_all_variables())"
   ]
  },
  {
   "cell_type": "code",
   "execution_count": 7,
   "metadata": {},
   "outputs": [
    {
     "name": "stdout",
     "output_type": "stream",
     "text": [
      "Reading development and training data (limit: 0).\n"
     ]
    }
   ],
   "source": [
    "#Read data into buckets and compute their sizes.\n",
    "print(\"Reading development and training data (limit: %d).\" % FLAGS.max_train_data_size)"
   ]
  },
  {
   "cell_type": "code",
   "execution_count": 8,
   "metadata": {},
   "outputs": [],
   "source": [
    "#학습/테스트 데이터를 읽어들이는 함수\n",
    "def read_data(source_path, target_path, max_size=None):\n",
    "    \"\"\"Read data from source and target files and put into buckets.\n",
    "    Args:\n",
    "    source_path: path to the files with token-ids for the source language.\n",
    "    target_path: path to the file with token-ids for the target language;\n",
    "      it must be aligned with the source file: n-th line contains the desired\n",
    "      output for n-th line from the source_path.\n",
    "    max_size: maximum number of lines to read, all other will be ignored;\n",
    "      if 0 or None, data files will be read completely (no limit).\n",
    "    Returns:\n",
    "    data_set: a list of length len(_buckets); data_set[n] contains a list of\n",
    "      (source, target) pairs read from the provided data files that fit\n",
    "      into the n-th bucket, i.e., such that len(source) < _buckets[n][0] and\n",
    "      len(target) < _buckets[n][1]; source and target are lists of token-ids.\n",
    "    \"\"\"\n",
    "    data_set = [[] for _ in _buckets] #각 버켓마다 담을 그릇 준비\n",
    "    diffs = [] #\n",
    "    #소스 파일(영어)과 타겟 파일(한국어)을 모두 읽기\n",
    "    with tf.gfile.GFile(source_path, mode=\"r\") as source_file:\n",
    "        with tf.gfile.GFile(target_path, mode=\"r\") as target_file:\n",
    "            #영어/한국어 한줄씩 읽기\n",
    "            source, target = source_file.readline(), target_file.readline()\n",
    "            counter = 0\n",
    "            while source and target and (not max_size or counter < max_size):\n",
    "                counter += 1\n",
    "                #일정단위로 상태 출력\n",
    "                if counter % 100000 == 0:\n",
    "                    print(\"reading data line %d\" % counter)\n",
    "                    sys.stdout.flush()\n",
    "                source_ids = [int(x) for x in source.split()]\n",
    "                target_ids = [int(x) for x in target.split()]\n",
    "                target_ids.append(data_utils.EOS_ID) #EOS 넣어주기\n",
    "                for bucket_id, (source_size, target_size) in enumerate(_buckets):\n",
    "                    if len(source_ids) < source_size and len(target_ids) < target_size:\n",
    "                        data_set[bucket_id].append([source_ids, target_ids])\n",
    "                        diffs.append(source_size - len(source_ids) + target_size - len(target_ids))\n",
    "                        break\n",
    "                source, target = source_file.readline(), target_file.readline()\n",
    "    return data_set"
   ]
  },
  {
   "cell_type": "code",
   "execution_count": 9,
   "metadata": {},
   "outputs": [
    {
     "data": {
      "text/plain": [
       "(4, 4)"
      ]
     },
     "execution_count": 9,
     "metadata": {},
     "output_type": "execute_result"
    }
   ],
   "source": [
    "#학습데이터와 테스트데이터 버켓에 담기 (개수 제한 없음: max_size=0)\n",
    "import numpy as np\n",
    "dev_set = read_data(en_dev, fr_dev)\n",
    "train_set = read_data(en_train, fr_train, FLAGS.max_train_data_size) #FLAGS.max_train_data_size=0\n",
    "len(dev_set), len(train_set)"
   ]
  },
  {
   "cell_type": "code",
   "execution_count": 10,
   "metadata": {},
   "outputs": [
    {
     "data": {
      "text/plain": [
       "([5983, 8376, 7279, 885], 22523.0)"
      ]
     },
     "execution_count": 10,
     "metadata": {},
     "output_type": "execute_result"
    }
   ],
   "source": [
    "#각 버켓의 사이즈 표시\n",
    "train_bucket_sizes = [len(train_set[b]) for b in xrange(len(_buckets))] #각 버켓의 사이즈\n",
    "train_total_size = float(sum(train_bucket_sizes)) #전체 학습데이터 사이즈\n",
    "train_bucket_sizes, train_total_size"
   ]
  },
  {
   "cell_type": "code",
   "execution_count": 11,
   "metadata": {},
   "outputs": [
    {
     "data": {
      "text/plain": [
       "[0.26563956844114905, 0.6375260844470098, 0.96070683301514, 1.0]"
      ]
     },
     "execution_count": 11,
     "metadata": {},
     "output_type": "execute_result"
    }
   ],
   "source": [
    "#각 버켓의 분포를 4분위로 나누어서 보여주기\n",
    "train_buckets_scale = [sum(train_bucket_sizes[:i + 1]) / train_total_size for i in xrange(len(train_bucket_sizes))]\n",
    "train_buckets_scale"
   ]
  },
  {
   "cell_type": "markdown",
   "metadata": {},
   "source": [
    "### Training Model"
   ]
  },
  {
   "cell_type": "code",
   "execution_count": 12,
   "metadata": {},
   "outputs": [],
   "source": [
    "# 학습과 관련된 초기값\n",
    "step_time, loss = 0.0, 0.0\n",
    "current_step = 0\n",
    "previous_losses = []\n",
    "best_eval_ppx = float('inf') #무한대"
   ]
  },
  {
   "cell_type": "code",
   "execution_count": null,
   "metadata": {},
   "outputs": [
    {
     "name": "stderr",
     "output_type": "stream",
     "text": [
      "Exception AssertionError: AssertionError() in <bound method InteractiveSession.__del__ of <tensorflow.python.client.session.InteractiveSession object at 0x1443b8a90>> ignored\n"
     ]
    },
    {
     "name": "stdout",
     "output_type": "stream",
     "text": [
      "current_step=100\n",
      "global step 100 learning rate 0.5000 step-time 0.35 perplexity 258.14\n",
      "  eval: bucket 0 perplexity 54.56\n",
      "  eval: bucket 1 perplexity 90.78\n",
      "  eval: bucket 2 perplexity 145.56\n",
      "  eval: bucket 3 perplexity 370.67\n",
      "break\n",
      "current_step=200\n",
      "global step 200 learning rate 0.5000 step-time 0.31 perplexity 82.85\n",
      "  eval: bucket 0 perplexity 78.07\n",
      "  eval: bucket 1 perplexity 99.39\n",
      "  eval: bucket 2 perplexity 131.71\n",
      "  eval: bucket 3 perplexity 131.32\n",
      "current_step=300\n",
      "global step 300 learning rate 0.5000 step-time 0.33 perplexity 55.55\n",
      "  eval: bucket 0 perplexity 29.21\n",
      "  eval: bucket 1 perplexity 37.21\n",
      "  eval: bucket 2 perplexity 54.61\n",
      "  eval: bucket 3 perplexity 106.98\n",
      "BEST mean eval perplexity: 57.000\n",
      "current_step=400\n",
      "global step 400 learning rate 0.5000 step-time 0.31 perplexity 36.52\n",
      "  eval: bucket 0 perplexity 26.08\n",
      "  eval: bucket 1 perplexity 31.75\n",
      "  eval: bucket 2 perplexity 40.18\n",
      "  eval: bucket 3 perplexity 66.40\n",
      "BEST mean eval perplexity: 41.103\n",
      "current_step=500\n",
      "global step 500 learning rate 0.5000 step-time 0.32 perplexity 25.98\n",
      "  eval: bucket 0 perplexity 14.39\n",
      "  eval: bucket 1 perplexity 18.00\n",
      "  eval: bucket 2 perplexity 38.45\n",
      "  eval: bucket 3 perplexity 66.93\n",
      "BEST mean eval perplexity: 34.440\n",
      "current_step=600\n",
      "global step 600 learning rate 0.5000 step-time 0.33 perplexity 19.01\n",
      "  eval: bucket 0 perplexity 12.90\n",
      "  eval: bucket 1 perplexity 14.92\n",
      "  eval: bucket 2 perplexity 19.82\n",
      "  eval: bucket 3 perplexity 35.45\n",
      "BEST mean eval perplexity: 20.771\n",
      "current_step=700\n",
      "global step 700 learning rate 0.5000 step-time 0.34 perplexity 13.52\n",
      "  eval: bucket 0 perplexity 8.17\n",
      "  eval: bucket 1 perplexity 16.24\n",
      "  eval: bucket 2 perplexity 28.13\n",
      "  eval: bucket 3 perplexity 60.01\n",
      "current_step=800\n",
      "global step 800 learning rate 0.5000 step-time 0.29 perplexity 9.77\n",
      "  eval: bucket 0 perplexity 4.64\n",
      "  eval: bucket 1 perplexity 8.32\n",
      "  eval: bucket 2 perplexity 18.81\n",
      "  eval: bucket 3 perplexity 44.54\n",
      "BEST mean eval perplexity: 19.080\n",
      "current_step=900\n",
      "global step 900 learning rate 0.5000 step-time 0.32 perplexity 8.88\n",
      "  eval: bucket 0 perplexity 4.64\n",
      "  eval: bucket 1 perplexity 7.88\n",
      "  eval: bucket 2 perplexity 13.27\n",
      "  eval: bucket 3 perplexity 25.31\n",
      "BEST mean eval perplexity: 12.775\n",
      "current_step=1000\n",
      "global step 1000 learning rate 0.5000 step-time 0.34 perplexity 7.53\n",
      "  eval: bucket 0 perplexity 4.33\n",
      "  eval: bucket 1 perplexity 10.20\n",
      "  eval: bucket 2 perplexity 13.34\n",
      "  eval: bucket 3 perplexity 25.12\n",
      "current_step=1100\n",
      "global step 1100 learning rate 0.5000 step-time 0.30 perplexity 6.05\n",
      "  eval: bucket 0 perplexity 5.26\n",
      "  eval: bucket 1 perplexity 7.52\n",
      "  eval: bucket 2 perplexity 8.79\n",
      "  eval: bucket 3 perplexity 21.44\n",
      "BEST mean eval perplexity: 10.753\n",
      "current_step=1200\n",
      "global step 1200 learning rate 0.5000 step-time 0.36 perplexity 6.27\n",
      "  eval: bucket 0 perplexity 5.47\n",
      "  eval: bucket 1 perplexity 7.84\n",
      "  eval: bucket 2 perplexity 16.39\n",
      "  eval: bucket 3 perplexity 36.57\n",
      "current_step=1300\n",
      "global step 1300 learning rate 0.5000 step-time 0.35 perplexity 5.40\n",
      "  eval: bucket 0 perplexity 3.01\n",
      "  eval: bucket 1 perplexity 4.72\n",
      "  eval: bucket 2 perplexity 7.66\n",
      "  eval: bucket 3 perplexity 17.20\n",
      "BEST mean eval perplexity: 8.148\n",
      "current_step=1400\n",
      "global step 1400 learning rate 0.5000 step-time 0.41 perplexity 5.14\n",
      "  eval: bucket 0 perplexity 2.84\n",
      "  eval: bucket 1 perplexity 3.46\n",
      "  eval: bucket 2 perplexity 7.30\n",
      "  eval: bucket 3 perplexity 23.28\n",
      "current_step=1500\n",
      "global step 1500 learning rate 0.5000 step-time 0.36 perplexity 4.52\n",
      "  eval: bucket 0 perplexity 2.49\n",
      "  eval: bucket 1 perplexity 3.19\n",
      "  eval: bucket 2 perplexity 6.44\n",
      "  eval: bucket 3 perplexity 14.92\n",
      "BEST mean eval perplexity: 6.761\n",
      "current_step=1600\n",
      "global step 1600 learning rate 0.5000 step-time 0.33 perplexity 3.67\n",
      "  eval: bucket 0 perplexity 2.80\n",
      "  eval: bucket 1 perplexity 3.16\n",
      "  eval: bucket 2 perplexity 4.76\n",
      "  eval: bucket 3 perplexity 12.71\n",
      "BEST mean eval perplexity: 5.858\n"
     ]
    }
   ],
   "source": [
    "#while문으로 학습시키기\n",
    "import time\n",
    "import math\n",
    "sess = tf.InteractiveSession()\n",
    "tf.initialize_all_variables().run()\n",
    "current_step = 0\n",
    "while True:\n",
    "    # Choose a bucket according to data distribution. We pick a random number\n",
    "    # in [0, 1] and use the corresponding interval in train_buckets_scale.\n",
    "    random_number_01 = np.random.random_sample()\n",
    "    bucket_id = min([i for i in xrange(len(train_buckets_scale)) if train_buckets_scale[i] > random_number_01])\n",
    "\n",
    "    # Get a batch and make a step.\n",
    "    start_time = time.time()\n",
    "    encoder_inputs, decoder_inputs, target_weights = model.get_batch(train_set, bucket_id)\n",
    "    _, step_loss, _ = model.step(sess, encoder_inputs, decoder_inputs, target_weights, bucket_id, False)\n",
    "    step_time += (time.time() - start_time) / FLAGS.steps_per_checkpoint\n",
    "    loss += step_loss / FLAGS.steps_per_checkpoint\n",
    "    current_step += 1\n",
    "\n",
    "    # Once in a while, we save checkpoint, print statistics, and run evals.\n",
    "    # 체크포인트 step마다 모델 저장하기\n",
    "    if current_step % FLAGS.steps_per_checkpoint == 0:\n",
    "        print('current_step={}'.format(current_step))\n",
    "        # Print statistics for the previous epoch.\n",
    "        perplexity = math.exp(loss) if loss < 300 else float('inf') #float('inf'): 무한인수\n",
    "        print(\"global step %d learning rate %.4f step-time %.2f perplexity %.2f\" % (model.global_step.eval(), model.learning_rate.eval(), step_time, perplexity))\n",
    "\n",
    "        # Decrease learning rate if no improvement was seen over last 3 times.\n",
    "        if len(previous_losses) > 2 and loss > max(previous_losses[-3:]):\n",
    "            sess.run(model.learning_rate_decay_op)\n",
    "            previous_losses.append(loss)\n",
    "\n",
    "        # Save checkpoint and zero timer and loss.\n",
    "        checkpoint_path = os.path.join(FLAGS.train_dir, \"translate.ckpt\")\n",
    "        model.saver.save(sess, checkpoint_path, global_step=model.global_step)\n",
    "        step_time, loss = 0.0, 0.0\n",
    "\n",
    "        # Run evals on development set and print their perplexity.\n",
    "        eval_ppx_list = []\n",
    "        for bucket_id in xrange(len(_buckets)):\n",
    "            if len(dev_set[bucket_id]) == 0:\n",
    "                print(\"  eval: empty bucket %d\" % (bucket_id))\n",
    "                continue\n",
    "            encoder_inputs, decoder_inputs, target_weights = model.get_batch(dev_set, bucket_id)\n",
    "            _, eval_loss, _ = model.step(sess, encoder_inputs, decoder_inputs, target_weights, bucket_id, True)\n",
    "            eval_ppx = math.exp(eval_loss) if eval_loss < 300 else float('inf')\n",
    "            eval_ppx_list.append(eval_ppx)\n",
    "            #print(\"  eval_ppx_list={}\".format(eval_ppx_list))\n",
    "            print(\"  eval: bucket %d perplexity %.2f\" % (bucket_id, eval_ppx))\n",
    "        sys.stdout.flush()\n",
    "    \n",
    "        mean_eval_ppx = np.mean(eval_ppx_list)\n",
    "        if mean_eval_ppx < best_eval_ppx:\n",
    "            best_eval_ppx = mean_eval_ppx\n",
    "            print(\"BEST mean eval perplexity: %.3f\" % best_eval_ppx)\n",
    "    \n",
    "    #make break for test\n",
    "    if current_step == 100:\n",
    "        print('break')\n",
    "        #break"
   ]
  },
  {
   "cell_type": "code",
   "execution_count": null,
   "metadata": {},
   "outputs": [],
   "source": []
  }
 ],
 "metadata": {
  "kernelspec": {
   "display_name": "Python 2",
   "language": "python",
   "name": "python2"
  },
  "language_info": {
   "codemirror_mode": {
    "name": "ipython",
    "version": 2
   },
   "file_extension": ".py",
   "mimetype": "text/x-python",
   "name": "python",
   "nbconvert_exporter": "python",
   "pygments_lexer": "ipython2",
   "version": "2.7.15"
  }
 },
 "nbformat": 4,
 "nbformat_minor": 2
}
